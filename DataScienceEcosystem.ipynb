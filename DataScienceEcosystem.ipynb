{
 "cells": [
  {
   "cell_type": "markdown",
   "id": "b6b05411-f75f-4e51-9439-7bc1da238717",
   "metadata": {},
   "source": [
    "<h1>Data Science Tools and Ecosystem</h1>"
   ]
  },
  {
   "cell_type": "markdown",
   "id": "9fbd6dc2-12ea-416f-a495-edd96681cadd",
   "metadata": {},
   "source": [
    "In this notebook, Data Science Tools and Ecosystem are summarized."
   ]
  },
  {
   "cell_type": "markdown",
   "id": "824571e9-1f6f-4a69-8324-54a6a468cf26",
   "metadata": {},
   "source": [
    "**Objectives:**\n",
    "<ul>\n",
    "    <li>List popular languages for Data Science</li>\n",
    "    <li>List popular libraries for Data Science</li>\n",
    "    <li>List popular tools for Data Science</li>\n",
    "    <li>Evaluate arithmetic expression in Python</li>\n",
    "    <li>Divide 200 by 60</li>\n",
    "</ul>"
   ]
  },
  {
   "cell_type": "markdown",
   "id": "286e3869-dc04-4879-915a-395412524d82",
   "metadata": {},
   "source": [
    "Some of the popular languages that Data Scientists use are:\n",
    "<ol>\n",
    "    <li>Python</li>\n",
    "    <li>R</li>\n",
    "    <li>SQL</li>\n",
    "    </ol>"
   ]
  },
  {
   "cell_type": "markdown",
   "id": "34b61551-61c5-4413-9667-34850191b8e1",
   "metadata": {},
   "source": [
    "Some of the popular libraries that Data Scientists use are:\n",
    "<ol>\n",
    "    <li>NumPy</li>\n",
    "    <li>SciPy</li>\n",
    "    <li>matplotlib</li>\n",
    "</ol>"
   ]
  },
  {
   "cell_type": "markdown",
   "id": "715b5e24-ad1e-4dab-b173-7483278be2f0",
   "metadata": {},
   "source": [
    "| Data Science Tools | \n",
    "| -------------| \n",
    "| Jupyter Notebooks |\n",
    "| RStudio | \n",
    "| Zeppelin Notebooks |"
   ]
  },
  {
   "cell_type": "markdown",
   "id": "accf2506-3856-4073-bef4-09c13442ea96",
   "metadata": {},
   "source": [
    "<h3>Below are a few examples of evaluating arithmetic expressions in Python</h3>"
   ]
  },
  {
   "cell_type": "code",
   "execution_count": 3,
   "id": "a08b93f5-18c0-40bc-86a3-33af8cab30de",
   "metadata": {
    "tags": []
   },
   "outputs": [
    {
     "data": {
      "text/plain": [
       "17"
      ]
     },
     "execution_count": 3,
     "metadata": {},
     "output_type": "execute_result"
    }
   ],
   "source": [
    "#This a simple arithmetic expression to mutiply then add integers\n",
    "(3*4)+5"
   ]
  },
  {
   "cell_type": "code",
   "execution_count": 5,
   "id": "099f7578-b968-43b3-9b50-965ac513e6d4",
   "metadata": {
    "tags": []
   },
   "outputs": [
    {
     "data": {
      "text/plain": [
       "3.3333333333333335"
      ]
     },
     "execution_count": 5,
     "metadata": {},
     "output_type": "execute_result"
    }
   ],
   "source": [
    "#This will convert 200 minutes to hours by diving by 60\n",
    "200/60"
   ]
  },
  {
   "cell_type": "markdown",
   "id": "9340f339-e696-49e1-bc99-596eb8920a41",
   "metadata": {},
   "source": [
    "<h2>Author</h2>\n",
    "Andrew Crawford Foulkes"
   ]
  },
  {
   "cell_type": "code",
   "execution_count": null,
   "id": "f6c1f014-b693-4908-a640-58ba90e59f40",
   "metadata": {},
   "outputs": [],
   "source": []
  }
 ],
 "metadata": {
  "kernelspec": {
   "display_name": "Python",
   "language": "python",
   "name": "conda-env-python-py"
  },
  "language_info": {
   "codemirror_mode": {
    "name": "ipython",
    "version": 3
   },
   "file_extension": ".py",
   "mimetype": "text/x-python",
   "name": "python",
   "nbconvert_exporter": "python",
   "pygments_lexer": "ipython3",
   "version": "3.7.12"
  }
 },
 "nbformat": 4,
 "nbformat_minor": 5
}
